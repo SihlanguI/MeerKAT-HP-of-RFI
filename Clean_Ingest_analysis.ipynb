{
 "cells": [
  {
   "cell_type": "code",
   "execution_count": 1,
   "metadata": {},
   "outputs": [],
   "source": [
    "%matplotlib inline\n",
    "import matplotlib.pyplot as plt\n",
    "import matplotlib.gridspec as gridspec\n",
    "import numpy as np\n",
    "import katdal\n",
    "import dask "
   ]
  },
  {
   "cell_type": "code",
   "execution_count": 2,
   "metadata": {},
   "outputs": [],
   "source": [
    "def readfile(path2file):\n",
    "    # Rest the data\n",
    "    #data.select(reset='TFB')\n",
    "    \n",
    "    # Loading the data\n",
    "    data = katdal.open(path2file)\n",
    "    all_Time = data.timestamps\n",
    "    data.select(scans='track')\n",
    "    track_Time = data.timestamps\n",
    "    \n",
    "    # Getting timestamps indices of track scan only\n",
    "    idx_track = []\n",
    "    for i,t in enumerate(all_Time):\n",
    "        if t in list(track_Time):\n",
    "            idx_track.append(i)\n",
    "    \n",
    "  \n",
    "            \n",
    "    return data,idx_track    "
   ]
  },
  {
   "cell_type": "code",
   "execution_count": 41,
   "metadata": {},
   "outputs": [],
   "source": [
    "def get_weights(data,idx_track):\n",
    "    # Getting the weights\n",
    "    store = data.source.data.store\n",
    "    chunk_info = data.source.telstate['chunk_info']\n",
    "    array = 'weights'\n",
    "    info = chunk_info[array]\n",
    "    array_name = store.join(info['prefix'], array)\n",
    "    darray = store.get_dask_array(array_name, info['chunks'], info['dtype'])\n",
    "    weights = darray[:, :, :].compute()[idx_track].astype(np.int32)   # time, freq, baseline selection\n",
    "    sdp_dumpRate= data.dump_period\n",
    "    cbf_dumpRate = data.source.metadata.attrs['i0_baseline_correlation_products_int_time']\n",
    "    \n",
    "    data.select(flags='ingest_rfi') # this chooses only the ingest flags\n",
    "    IngestFlags = data.flags # all tracks ingest flags\n",
    "    \n",
    "    return IngestFlags, weights, sdp_dumpRate, cbf_dumpRate"
   ]
  },
  {
   "cell_type": "code",
   "execution_count": 39,
   "metadata": {},
   "outputs": [],
   "source": [
    "def stats_of_ingest(IngestFlags, weights, sdp_dumpRate, cbf_dumpRate):\n",
    "    # Percentage of data Excised by the Ingest\n",
    "    \n",
    "    NoSample = np.rint(sdp_dumpRate/cbf_dumpRate) # Maximum number of CBF samples that forms\n",
    "                                                               # one SDP sample\n",
    "        \n",
    "    # Number of sample excised per each SDP visibility\n",
    "    NoSampleExcised = np.sum(np.rint((255-weights)/64.))\n",
    "    \n",
    "    # Perentage of CBF samples excised by the ingest\n",
    "    PercentageIngestExcised = (NoSampleExcised/(NoSample*weights.size))*100\n",
    "   \n",
    "    #Number of Samples that are Weighted 255 AND Ingest_flag was 1: \n",
    "    N_rfi255 = np.where((np.ravel(weights) == 255) & (np.ravel(IngestFlags)==True))\n",
    "    \n",
    "    #Number of Samples that were Weighted 255 AND Ingest_flag was 0:\n",
    "    N_pure255 =  np.where((np.ravel(weights) == 255) & (np.ravel(IngestFlags)==False))\n",
    "    # Percentage of clean samples when no excsiion of CBF samples\n",
    "    pclean_CBF = (float(N_pure255[0].size)/weights.size)*100\n",
    "    \n",
    "    #Number of Samples that were Weighted 255 AND Ingest_flag was 1:\n",
    "    N_rfi255 =  np.where((np.ravel(weights) == 255) & (np.ravel(IngestFlags)==True))\n",
    "    # Percentage of RFI samples when no excision of CBF samples.\n",
    "    prfi_CBF = (float(N_rfi255[0].size)/weights.size)*100\n",
    "    \n",
    "    \n",
    "    # Percentage of SDP samples that had RFI excised\n",
    "    p_sdp_excised = 100 - (pclean_CBF+prfi_CBF )\n",
    "    return pclean_CBF, prfi_CBF, PercentageIngestExcised , p_sdp_excised\n",
    "    "
   ]
  },
  {
   "cell_type": "code",
   "execution_count": 5,
   "metadata": {},
   "outputs": [],
   "source": [
    "data, idx_track = readfile('/scratch2/isaac/rfi_data/goodfiles/1540742104_sdp_l0.full.rdb')"
   ]
  },
  {
   "cell_type": "code",
   "execution_count": 42,
   "metadata": {},
   "outputs": [],
   "source": [
    "IngestFlags, weights, sdp_dumpRate, cbf_dumpRate = get_weights(data, idx_track)"
   ]
  },
  {
   "cell_type": "code",
   "execution_count": 43,
   "metadata": {},
   "outputs": [],
   "source": [
    "pclean_CBF, prfi_CBF, PercentageIngestExcised, p_sdp_excised = stats_of_ingest(IngestFlags, weights, sdp_dumpRate, cbf_dumpRate)"
   ]
  },
  {
   "cell_type": "markdown",
   "metadata": {},
   "source": [
    "# Explanation\n",
    "\n",
    "RFI detection is carried out during the ingest step by detecting outliers along the frequency axis in each individual correlator dump (time). We will refer to this RFI as ingest_rfi now on. This process will normally detect the very strong RFI. At this stage where averaging is carried out, samples which are detected as RFI are excised, only unflagged samples are averaged to 2, 4 or 8 s and further used in the data processing pipeline. The output of ingest step is therefore an averaged RFI excised dataset with  pertinent meta-data stored in telestate. The output of the ingest will be called the SDP visibility sample now on.<br >\n",
    "\n",
    "To account for data loss due to the ingest excision each visibility data point has an associated weight $W_{SDP}$ which tells us how many samples were averaged to produce these visibilities.<br >\n",
    "\n",
    "Let us define N as number of correlator samples, $V_{CBF}$ as the visibility sample from the correlator beam former (CBF), U as the set of indices of unflagged correlator visibilities and $V_{SDP}$ as the SDP visibility sample.<br >\n",
    "\n",
    "\n",
    "The ingest flags becomes TRUE when all N samples are flagged as RFI by the ingest, then at this point there is no excision of data. Then, the SDP visibility sample can be calculated as follows:\n",
    "\n",
    "\\begin{eqnarray}\n",
    "V_{SDP} = W_{SDP} \\sum_i V_{CBF[i]}\n",
    "\\end{eqnarray}\n",
    "\n",
    "where,\n",
    "\\begin{eqnarray}\n",
    "W_{SDP} =  \\frac{1}{N}\n",
    "\\end{eqnarray}\n",
    "\n",
    "\n",
    "with partial flagging or excision of data the ingest flags becomes *FALSE* then the SDP visibility becomes,\n",
    "\n",
    "\\begin{eqnarray}\n",
    "V_{SDP} = W_{SDP} \\sum_{i \\in U} V_{CBF[i]}\n",
    "\\end{eqnarray}\n",
    "\n",
    "and,\n",
    "\\begin{eqnarray}\n",
    "W =  \\frac{1}{N_{U}}\n",
    "\\end{eqnarray}\n",
    "\n",
    "\n",
    "with $N_U$ being defined as the number of unflagged samples by the ingest.\n",
    "The set of weights are as follows: **{64, 127, 170, 191, 255}**\n",
    "\n",
    "- 64 - 3 out of 4 samples have been excised\n",
    "- 127 - 2 out of 4 samples has been excised\n",
    "- 170 & 191 - 1 out of 4 samples has been excised\n",
    "- If 255 - NO samples were excised (ALL samples were present)\n",
    "\n",
    "\n",
    "If the weight is 255 it means there was no excision on the ingest step, so this implies that either all the samples were detected as RFI by the ingest or all the samples were non RFI."
   ]
  },
  {
   "cell_type": "markdown",
   "metadata": {},
   "source": [
    "### Looking at data with weight 255 : All CBF samples were present\n",
    "\n",
    "- Weight 255 and ingest RFI flags is  0"
   ]
  },
  {
   "cell_type": "code",
   "execution_count": 44,
   "metadata": {},
   "outputs": [
    {
     "name": "stdout",
     "output_type": "stream",
     "text": [
      "Percentage of CBF samples with no excision and no RFI :  95.0272678275\n"
     ]
    }
   ],
   "source": [
    "print 'Percentage of CBF samples with no excision and no RFI : ',pclean_CBF"
   ]
  },
  {
   "cell_type": "markdown",
   "metadata": {},
   "source": [
    "- Weight 255 and ingest flag is 1"
   ]
  },
  {
   "cell_type": "code",
   "execution_count": 45,
   "metadata": {},
   "outputs": [
    {
     "name": "stdout",
     "output_type": "stream",
     "text": [
      "Percentage of CBF samples with no excision and with RFI :  1.77626070192\n"
     ]
    }
   ],
   "source": [
    "print 'Percentage of CBF samples with no excision and with RFI : ' ,prfi_CBF"
   ]
  },
  {
   "cell_type": "markdown",
   "metadata": {},
   "source": [
    "The number of CBF samples excised by the ingest can be calculated as follows:\n",
    "\n",
    "\\begin{eqnarray}\n",
    "No\\_excised\\_samples = \\frac{\\sum_i (255 - w_i)}{64}\n",
    "\\end{eqnarray}\n",
    "\n",
    "where $w_i$ is the SDP wight associated to each visibility. <br >\n",
    "\n",
    "Thus we can compute the fraction of CBF samples excised by the ingest as follows:\n",
    "\\begin{eqnarray}\n",
    "CBF\\_excised =\\frac{\\frac{\\sum_i (255 - w_i)}{64}}{Number\\_of\\_CBF\\_samples}\n",
    "\\end{eqnarray}"
   ]
  },
  {
   "cell_type": "code",
   "execution_count": 46,
   "metadata": {},
   "outputs": [
    {
     "name": "stdout",
     "output_type": "stream",
     "text": [
      "Percentage of CBF samples that have been excised 1.339354473227084\n"
     ]
    }
   ],
   "source": [
    "print 'Percentage of CBF samples that have been excised',PercentageIngestExcised  "
   ]
  },
  {
   "cell_type": "markdown",
   "metadata": {},
   "source": [
    "### Looking at the data with weight < 255. SDP samples that had RFI excised.\n",
    "\n",
    "- Weight < 255"
   ]
  },
  {
   "cell_type": "code",
   "execution_count": 47,
   "metadata": {},
   "outputs": [
    {
     "name": "stdout",
     "output_type": "stream",
     "text": [
      "Percentage of SDP samples that had RFI excised 3.1964714706\n"
     ]
    }
   ],
   "source": [
    " print 'Percentage of SDP samples that had RFI excised',  p_sdp_excised"
   ]
  },
  {
   "cell_type": "code",
   "execution_count": 48,
   "metadata": {},
   "outputs": [],
   "source": [
    "N_pure255 =  np.where((np.ravel(weights) == 255) & (np.ravel(IngestFlags)==False))"
   ]
  },
  {
   "cell_type": "code",
   "execution_count": 49,
   "metadata": {},
   "outputs": [],
   "source": [
    "weights = weights.ravel()"
   ]
  },
  {
   "cell_type": "code",
   "execution_count": 51,
   "metadata": {},
   "outputs": [],
   "source": [
    "weights[N_pure255[0]] = 500"
   ]
  },
  {
   "cell_type": "code",
   "execution_count": 63,
   "metadata": {},
   "outputs": [
    {
     "data": {
      "image/png": "[encoded data removed]",
      "text/plain": [
       "<Figure size 864x576 with 1 Axes>"
      ]
     },
     "metadata": {
      "needs_background": "light"
     },
     "output_type": "display_data"
    }
   ],
   "source": [
    "plt.figure(figsize=(12,8))\n",
    "plt.title('255 AND 1')\n",
    "plt.xlim(0,300)\n",
    "plt.ylim(0,2e7)\n",
    "plt.xlabel('Weights')\n",
    "plt.ylabel('Counts')\n",
    "plt.hist(weights)\n",
    "plt.xticks([75,125,175,255],['64','127','170 & 191','255 & 1'])\n",
    "plt.show()"
   ]
  },
  {
   "cell_type": "code",
   "execution_count": 62,
   "metadata": {},
   "outputs": [
    {
     "data": {
      "image/png": "[encoded data removed]",
      "text/plain": [
       "<Figure size 864x576 with 1 Axes>"
      ]
     },
     "metadata": {
      "needs_background": "light"
     },
     "output_type": "display_data"
    }
   ],
   "source": [
    "plt.figure(figsize=(12,8))\n",
    "plt.title('All Data')\n",
    "#plt.xlim(0,300)\n",
    "#plt.ylim(0,2e7)\n",
    "plt.xlabel('Weights')\n",
    "plt.ylabel('Counts')\n",
    "plt.hist(weights)\n",
    "plt.xticks([75,125,175,255,475],['64','127','191','255 & 1','255 & 0'])\n",
    "plt.show()"
   ]
  },
  {
   "cell_type": "code",
   "execution_count": null,
   "metadata": {},
   "outputs": [],
   "source": []
  }
 ],
 "metadata": {
  "kernelspec": {
   "display_name": "Python 2",
   "language": "python",
   "name": "python2"
  },
  "language_info": {
   "codemirror_mode": {
    "name": "ipython",
    "version": 2
   },
   "file_extension": ".py",
   "mimetype": "text/x-python",
   "name": "python",
   "nbconvert_exporter": "python",
   "pygments_lexer": "ipython2",
   "version": "2.7.12"
  }
 },
 "nbformat": 4,
 "nbformat_minor": 2
}
