{
 "cells": [
  {
   "cell_type": "markdown",
   "metadata": {},
   "source": [
    "## Walk through H5 files\n",
    "\n",
    "Isaac Sihlangu<br>\n",
    "Email: isihlangu@ska.ac.za"
   ]
  },
  {
   "cell_type": "code",
   "execution_count": 2,
   "metadata": {},
   "outputs": [],
   "source": [
    "# Importing useful packages\n",
    "import katdal  # It is useful to manipulate H5 files from MeerKAT\n",
    "import h5py"
   ]
  },
  {
   "cell_type": "markdown",
   "metadata": {},
   "source": [
    "### We use katdal to open the H5 files produced by MeerKAT telescope, katdal is used as the data access library. "
   ]
  },
  {
   "cell_type": "code",
   "execution_count": 3,
   "metadata": {},
   "outputs": [],
   "source": [
    "# Openning the H5 file to obtain the data set object\n",
    "h5 = katdal.open( '/var/kat/archive2/data/MeerKATAR1/telescope_products/2018/02/18/1518941264.h5')"
   ]
  },
  {
   "cell_type": "markdown",
   "metadata": {},
   "source": [
    "### The content of the files can be inspeceted by printing the object."
   ]
  },
  {
   "cell_type": "code",
   "execution_count": 4,
   "metadata": {},
   "outputs": [
    {
     "name": "stdout",
     "output_type": "stream",
     "text": [
      "===============================================================================\n",
      "Name: /var/kat/archive2/data/MeerKATAR1/telescope_products/2018/02/18/1518941264.h5 (version 3.0)\n",
      "===============================================================================\n",
      "Observer: sarah  Experiment ID: 20180218-0003\n",
      "Description: 'MKAIV-405 Generic AR1 phaseup'\n",
      "Observed from 2018-02-18 10:07:45.570 SAST to 2018-02-18 10:11:21.479 SAST\n",
      "Dump rate / period: 0.12505 Hz / 7.997 s\n",
      "Subarrays: 1\n",
      "  ID  Antennas                            Inputs  Corrprods\n",
      "   0  m000,m002,m003,m006,m007,m008,m011,m012,m013,m019,m022,m023,m027,m029,m032,m034  32      544\n",
      "Spectral Windows: 1\n",
      "  ID Band Product  CentreFreq(MHz)  Bandwidth(MHz)  Channels  ChannelWidth(kHz)\n",
      "   0 L    bc856M4k   1284.000         856.000           4096       208.984\n",
      "-------------------------------------------------------------------------------\n",
      "Data selected according to the following criteria:\n",
      "  subarray=0\n",
      "  ants=['m019', 'm008', 'm003', 'm002', 'm012', 'm013', 'm007', 'm006', 'm029', 'm023', 'm022', 'm032', 'm027', 'm011', 'm000', 'm034']\n",
      "  spw=0\n",
      "-------------------------------------------------------------------------------\n",
      "Shape: (27 dumps, 4096 channels, 544 correlation products) => Size: 481.296 MB\n",
      "Antennas: m000,m002,m003,m006,m007,m008,m011,m012,m013,*m019,m022,m023,m027,m029,m032,m034  Inputs: 32  Autocorr: yes  Crosscorr: yes\n",
      "Channels: 4096 (index 0 - 4095,  856.000 MHz - 1711.791 MHz), each 208.984 kHz wide\n",
      "Targets: 2 selected out of 2 in catalogue\n",
      "  ID  Name         Type      RA(J2000)     DEC(J2000)  Tags                       Dumps  ModelFlux(Jy)\n",
      "   0  PKS 1934-63  radec     19:39:25.03  -63:42:45.7  bfcal single_accumulation     24      14.46\n",
      "   1  Nothing      special             -            -                                 3  \n",
      "Scans: 6 selected out of 6 total       Compscans: 2 selected out of 2 total\n",
      "  Date        Timerange(UTC)       ScanState  CompScanLabel  Dumps  Target\n",
      "  18-Feb-2018/08:07:49 - 08:08:29    0:slew     0:un_corrected      6    0:PKS 1934-63\n",
      "              08:08:37 - 08:09:25    1:track    0:un_corrected      7    0:PKS 1934-63\n",
      "              08:09:33 - 08:09:49    2:stop     0:un_corrected      3    1:Nothing\n",
      "              08:09:57 - 08:10:05    3:stop     1:corrected      2    0:PKS 1934-63\n",
      "              08:10:13 - 08:10:13    4:slew     1:corrected      1    0:PKS 1934-63\n",
      "              08:10:21 - 08:11:17    5:track    1:corrected      8    0:PKS 1934-63\n"
     ]
    }
   ],
   "source": [
    "print h5"
   ]
  },
  {
   "cell_type": "markdown",
   "metadata": {},
   "source": [
    "The first segment of the printout displays the static information of the data set, including observer, dump rate and all the available subarrays and spectral windows in the data set. The second segment (between the dashed lines) highlights the active selection criteria. The last segment displays dynamic information that is influenced by the selection, including the overall visibility array shape, antennas, channel frequencies, targets and scan info.\n",
    "\n"
   ]
  },
  {
   "cell_type": "markdown",
   "metadata": {},
   "source": [
    "The data set is built around the concept of a three-dimensional visibility array with dimensions of time, frequency and correlation product. This is reflected in the shape of the dataset:\n",
    "\n"
   ]
  },
  {
   "cell_type": "code",
   "execution_count": 5,
   "metadata": {},
   "outputs": [
    {
     "name": "stdout",
     "output_type": "stream",
     "text": [
      "(27, 4096, 544)\n"
     ]
    }
   ],
   "source": [
    "print h5.shape"
   ]
  },
  {
   "cell_type": "markdown",
   "metadata": {},
   "source": [
    "The above it means 27 dumps by 4096 frequency channels by 544 correletion product."
   ]
  },
  {
   "cell_type": "markdown",
   "metadata": {},
   "source": [
    "#### Dumps\n",
    "The dump rate as we can read from the above H5 file content print out is approximately 8s. It means that every 8sec we record a data point. The observation time for this file is approximately 3 minutes and 36 seconds $\\approx$ 216 seconds. <br>\n",
    "\n",
    "So, \n",
    "\\begin{eqnarray}\n",
    "\\begin{aligned}\n",
    "Dumps ={} &\\frac{length \\hspace{0.25cm} of \\hspace{0.25cm}  observation \\hspace{0.25cm}  time}{Dumping \\hspace{0.25cm}  rate} \\\\\n",
    "& = \\frac{216sec}{8sec} \\\\\n",
    "& = 27 \\hspace{0.25cm} dumps\n",
    "\\end{aligned}\n",
    "\\end{eqnarray}\n",
    "\n",
    "Thus we have 27 dumps as we can read it from the shape of the file. <br >\n",
    "\n",
    "#### Frequency Channels\n",
    "\n",
    "We are observeing using the L-band reciever. The frequency range for the L-band is 856 MHz - 1711.791 MHz as it can be read from the print out above. The channel width is 208.984 KHz. So, <br >\n",
    "\n",
    "\\begin{eqnarray}\n",
    "\\begin{aligned}\n",
    "freqRange = {}& endFreq \\hspace{0.25cm} - \\hspace{0.25cm} startFreq \\\\\n",
    "            &= 1711.791MHz \\hspace{0.25cm} - \\hspace{0.25cm} 856MHz \\\\\n",
    "            &= 855.79 MHz\n",
    "\\end{aligned}\n",
    "\\end{eqnarray}\n",
    "\n",
    "then, <br >\n",
    "\n",
    "\\begin{eqnarray}\n",
    "\\begin{aligned}\n",
    "Frequency \\hspace{0.25cm}channels = & \\frac{freqRange}{channel \\hspace{0.25cm}width} \\\\\n",
    "                                 & = \\frac{855790.999 KHz}{208.984 KHz}\n",
    "                                 & = 4096\n",
    "\\end{aligned}\n",
    "\\end{eqnarray}\n",
    "\n",
    "As it can be seen from the shape of the H5 file object.\n",
    "\n",
    "#### Correlation products\n",
    "\n",
    "Th correlation product is divided into: <br >\n",
    "- Auto-Correlation  =  Telescope correlating with it self.\n",
    "- Cross- Correlation = Telescope correlating with other telescopes. <br >\n",
    "\n",
    "We can compute the number of baseline as follows: <br >\n",
    "\n",
    "\\begin{eqnarray}\n",
    "\\begin{aligned}\n",
    "No. \\hspace{0.25 cm}baseline = & \\frac{N(N-1)}{2}\n",
    "\\end{aligned}\n",
    "\\end{eqnarray}\n",
    "\n",
    "where N is the number of antennas. In our case we have 16 antennas, so No. baseline = 120. <br >\n",
    "\n",
    "Our antennas are linearly polarized, (i.e They have Horizonatl and Vertical polarization). <br >\n",
    "\n",
    "For Auto-correlation we have 4 Polarization which are HH, VV, HV and VH. Also for Cross-correlation we have 4 polarization which are HH, VV, HV and VH. But, for auto-correlation HV and HV are the same since it is the same antenna. <br >\n",
    "\n",
    "In our example we have 16 antennas, so we shall have <br >\n",
    "\n",
    "- Auto-correlation <br >\n",
    "16 $\\times$ 4 = 64 products\n",
    "\n",
    "- Cross-correlation <br >\n",
    "120 $\\times$ 4 = 480 products <br >\n",
    "\n",
    "Thus the total number of correlation products is 64 + 480 = 544. <br >\n"
   ]
  },
  {
   "cell_type": "markdown",
   "metadata": {},
   "source": [
    "We can access the file at attributes by using the dot method (i.e H5. > tab) will give us the list of atrributes that the object contain. We can also select the subset of the data using Dataset.select attribute, for more detailed information (i.e. do d.select? in IPython)."
   ]
  },
  {
   "cell_type": "markdown",
   "metadata": {},
   "source": [
    "### Select Attribute\n",
    "\n",
    "We can use the 'select' attribute to select the subset of the data depending on our needs. We can select subset of data, based on time, frequency , and correlation products. This applies a set of selection criteria to the data set, which updates the data set properties and attributes to match the selection. In other words, the :meth:`timestamps` and :meth:`vis` methods will return the selected subset of the data, while attributes such as :attr:`ants`,\n",
    ":attr:`channel_freqs` and :attr:`shape` are updated. This function returns nothing, but modifies the existing\n",
    "data set in-place. <br >\n",
    "\n",
    "The selection criteria are divided into groups, based on whether they\n",
    "affect the time, frequency or correlation product dimension::\n",
    "\n",
    "* Time: `dumps`, `timerange`, `scans`, `compscans`, `targets`\n",
    "* Frequency: `channels`, `freqrange`\n",
    "* Correlation product: `corrprods`, `ants`, `inputs`, `pol` <br >\n",
    "\n",
    "To Reset <br >\n",
    "\n",
    "We use the :meth: 'select' without any arguments or attribute, then then the selection will be reset to the original data set. Example below:\n"
   ]
  },
  {
   "cell_type": "markdown",
   "metadata": {},
   "source": [
    "We going to select only the cross correlation product, and HH,VV,HV, and VH polarization and lastly only scans which were tracking."
   ]
  },
  {
   "cell_type": "code",
   "execution_count": 6,
   "metadata": {},
   "outputs": [],
   "source": [
    "# Applying the selection criteria\n",
    "h5.select(corrprods = 'cross',pol = ['HH','VV','HV','VH'],scans='track')"
   ]
  },
  {
   "cell_type": "code",
   "execution_count": 7,
   "metadata": {},
   "outputs": [
    {
     "name": "stdout",
     "output_type": "stream",
     "text": [
      "===============================================================================\n",
      "Name: /var/kat/archive2/data/MeerKATAR1/telescope_products/2018/02/18/1518941264.h5 (version 3.0)\n",
      "===============================================================================\n",
      "Observer: sarah  Experiment ID: 20180218-0003\n",
      "Description: 'MKAIV-405 Generic AR1 phaseup'\n",
      "Observed from 2018-02-18 10:07:45.570 SAST to 2018-02-18 10:11:21.479 SAST\n",
      "Dump rate / period: 0.12505 Hz / 7.997 s\n",
      "Subarrays: 1\n",
      "  ID  Antennas                            Inputs  Corrprods\n",
      "   0  m000,m002,m003,m006,m007,m008,m011,m012,m013,m019,m022,m023,m027,m029,m032,m034  32      544\n",
      "Spectral Windows: 1\n",
      "  ID Band Product  CentreFreq(MHz)  Bandwidth(MHz)  Channels  ChannelWidth(kHz)\n",
      "   0 L    bc856M4k   1284.000         856.000           4096       208.984\n",
      "-------------------------------------------------------------------------------\n",
      "Data selected according to the following criteria:\n",
      "  corrprods='cross'\n",
      "  pol=['HH', 'VV', 'HV', 'VH']\n",
      "  subarray=0\n",
      "  scans='track'\n",
      "  spw=0\n",
      "-------------------------------------------------------------------------------\n",
      "Shape: (15 dumps, 4096 channels, 480 correlation products) => Size: 235.930 MB\n",
      "Antennas: m000,m002,m003,m006,m007,m008,m011,m012,m013,*m019,m022,m023,m027,m029,m032,m034  Inputs: 32  Autocorr: no  Crosscorr: yes\n",
      "Channels: 4096 (index 0 - 4095,  856.000 MHz - 1711.791 MHz), each 208.984 kHz wide\n",
      "Targets: 1 selected out of 2 in catalogue\n",
      "  ID  Name         Type      RA(J2000)     DEC(J2000)  Tags                       Dumps  ModelFlux(Jy)\n",
      "   0  PKS 1934-63  radec     19:39:25.03  -63:42:45.7  bfcal single_accumulation     15      14.46\n",
      "Scans: 2 selected out of 6 total       Compscans: 2 selected out of 2 total\n",
      "  Date        Timerange(UTC)       ScanState  CompScanLabel  Dumps  Target\n",
      "  18-Feb-2018/08:08:37 - 08:09:25    1:track    0:un_corrected      7    0:PKS 1934-63\n",
      "              08:10:21 - 08:11:17    5:track    1:corrected      8    0:PKS 1934-63\n"
     ]
    }
   ],
   "source": [
    "print h5"
   ]
  },
  {
   "cell_type": "markdown",
   "metadata": {},
   "source": [
    "We can notice that on the second segment (between the dashed lines) highlights the active selection criteria. All our selection criteria asre printed."
   ]
  },
  {
   "cell_type": "code",
   "execution_count": 8,
   "metadata": {},
   "outputs": [
    {
     "name": "stdout",
     "output_type": "stream",
     "text": [
      "(15, 4096, 480)\n"
     ]
    }
   ],
   "source": [
    "# Print the shape of the updated dataset\n",
    "print h5.shape"
   ]
  },
  {
   "cell_type": "markdown",
   "metadata": {},
   "source": [
    "We can note that now we have 15 dumps as compared to the original dataset which has 27 dumps, this is because now we have only chosen tracking scans. The number of frequency channel is still the same as the original dataset because we did not select anything. The number of correlation products now it is 480, which is what we have as expected as per the explanation given above under correlation product."
   ]
  },
  {
   "cell_type": "code",
   "execution_count": null,
   "metadata": {},
   "outputs": [],
   "source": []
  }
 ],
 "metadata": {
  "kernelspec": {
   "display_name": "Python 2",
   "language": "python",
   "name": "python2"
  },
  "language_info": {
   "codemirror_mode": {
    "name": "ipython",
    "version": 2
   },
   "file_extension": ".py",
   "mimetype": "text/x-python",
   "name": "python",
   "nbconvert_exporter": "python",
   "pygments_lexer": "ipython2",
   "version": "2.7.12"
  }
 },
 "nbformat": 4,
 "nbformat_minor": 2
}
