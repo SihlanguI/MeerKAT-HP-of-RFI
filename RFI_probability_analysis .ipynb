{
 "cells": [
  {
   "cell_type": "code",
   "execution_count": 350,
   "metadata": {},
   "outputs": [
    {
     "name": "stdout",
     "output_type": "stream",
     "text": [
      "Once deleted, variables cannot be recovered. Proceed (y/[n])? y\n"
     ]
    }
   ],
   "source": [
    "%reset"
   ]
  },
  {
   "cell_type": "markdown",
   "metadata": {},
   "source": [
    "### RFI occupancy as function of baseline\n",
    "This analysis willl use the cross correlations since we want to find the occupancy of RFI as a function of baseline.\n",
    "\n",
    "We can use the output from the Accidental_Inter_instrument_RFI_general_analysis.ipynb to do further analysis here\n"
   ]
  },
  {
   "cell_type": "code",
   "execution_count": 351,
   "metadata": {},
   "outputs": [],
   "source": [
    "%matplotlib inline\n",
    "\n",
    "import matplotlib.pylab as plt\n",
    "plt.rcParams['figure.figsize'] = (15,12)\n",
    "\n",
    "plt.rcParams['font.size']=15"
   ]
  },
  {
   "cell_type": "code",
   "execution_count": 352,
   "metadata": {},
   "outputs": [],
   "source": [
    "import katdal\n",
    "import katpoint\n",
    "\n",
    "import h5py\n",
    "from dask import array as da\n",
    "from itertools import combinations\n",
    "import numpy as np\n",
    "import matplotlib.pylab as plt\n",
    "import datetime\n",
    "from collections import Counter"
   ]
  },
  {
   "cell_type": "code",
   "execution_count": 353,
   "metadata": {},
   "outputs": [],
   "source": [
    "file_list =np.array([['/var/kat/archive2/data/MeerKATAR1/telescope_products/2018/02/18/1518913830.h5',\n",
    "                      '/var/kat/archive3/data/MeerKATAR1/reduction_products/1518934283/1518913830_flags.h5'],\n",
    "                     ['/var/kat/archive2/data/MeerKATAR1/telescope_products/2018/02/17/1518867030.h5',\n",
    "                      '/var/kat/archive3/data/MeerKATAR1/reduction_products/1518874024/1518867030_flags.h5']])\n"
   ]
  },
  {
   "cell_type": "code",
   "execution_count": 355,
   "metadata": {},
   "outputs": [
    {
     "name": "stdout",
     "output_type": "stream",
     "text": [
      "Doing file 1518867030.h5 \n",
      "Flags file is 1518867030_flags.h5 \n"
     ]
    }
   ],
   "source": [
    "idx = int(raw_input('Enter file indx to use '))\n",
    "\n",
    "try:\n",
    "    h5 = katdal.open(file_list[idx,0])\n",
    "    flag_file = h5py.File(file_list[idx,1])\n",
    "except Exception as err_msg: raise SystemExit('An error has occured:\\n%s' % err_msg)\n",
    "    \n",
    "outfile = file_list[0,idx][-13:].split('.')[0]\n",
    "\n",
    "print('Doing file %s ') %file_list[idx,0].split('/')[-1]\n",
    "print('Flags file is %s ') %file_list[idx,1].split('/')[-1]"
   ]
  },
  {
   "cell_type": "code",
   "execution_count": 356,
   "metadata": {},
   "outputs": [
    {
     "name": "stdout",
     "output_type": "stream",
     "text": [
      "Enter polarization you want to analyse [HH,VV,HV,VH] VH\n"
     ]
    }
   ],
   "source": [
    "my_pol = raw_input('Enter polarization you want to analyse [HH,VV,HV,VH] ')"
   ]
  },
  {
   "cell_type": "code",
   "execution_count": 357,
   "metadata": {},
   "outputs": [],
   "source": [
    "def select_corr_prod(h5, pol_to_use):\n",
    "    '''\n",
    "    Selecting the correlection products.\n",
    "    \n",
    "    Input: h5 file object\n",
    "    \n",
    "    Output: updated h5 files\n",
    "    '''\n",
    "    return h5.select(corrprods = 'cross',pol = pol_to_use,scans='track')"
   ]
  },
  {
   "cell_type": "code",
   "execution_count": 358,
   "metadata": {},
   "outputs": [],
   "source": [
    "# Selecting correletion products\n",
    "select_corr_prod(h5,my_pol)"
   ]
  },
  {
   "cell_type": "code",
   "execution_count": 359,
   "metadata": {},
   "outputs": [],
   "source": [
    "def apply_flags(h5,flag_file):\n",
    "    '''\n",
    "    This function is going to apply flag table to the data.\n",
    "    \n",
    "    Input : Flag file and data file\n",
    "    \n",
    "    Output : The flag table\n",
    "    '''\n",
    "    #flags = da.from_array(flag_file['flags'], chunks=(1,342,h5.shape[2]))\n",
    "    #h5.source.data.flags = flags\n",
    "    h5._flags = flag_file['flags'] \n",
    "    \n",
    "    hh = h5.flags[:,:,:]\n",
    "    return hh"
   ]
  },
  {
   "cell_type": "code",
   "execution_count": 360,
   "metadata": {},
   "outputs": [],
   "source": [
    "# aplying flags\n",
    "HH = apply_flags(h5,flag_file)\n",
    "#HH = flag_file"
   ]
  },
  {
   "cell_type": "code",
   "execution_count": 361,
   "metadata": {},
   "outputs": [],
   "source": [
    "def remove_bad_ants(HH,h5):\n",
    "    '''\n",
    "    This function is going to get the remove all the bad antennas.\n",
    "    \n",
    "    \n",
    "    Input arr: h5 object and flag table :shape [time, frequency, baseline]\n",
    "    \n",
    "    Output : List of all good anntenas\n",
    "    '''\n",
    "    bad_bl = []\n",
    "    for i in range(h5.shape[2]):\n",
    "        if np.sum(HH[:,:,i])/(HH.shape[0]*HH.shape[1])>0.95:\n",
    "            bad_bl.append(h5.corr_products[i])\n",
    "            \n",
    "    merged_bl = np.ravel(bad_bl)\n",
    "    count = dict(Counter(merged_bl))\n",
    "    \n",
    "    bad_ants = []\n",
    "    for item,coun in count.items():\n",
    "        if coun >= (len(h5.ants) - 1):\n",
    "            bad_ants.append(item[0:-1])\n",
    "    ant_name = []\n",
    "    for ant in h5.ants:\n",
    "        ant_name.append(ant.name)\n",
    "    for ants in bad_ants:\n",
    "        ant_name.remove(ants)\n",
    "            \n",
    "            \n",
    "    return ant_name"
   ]
  },
  {
   "cell_type": "code",
   "execution_count": 362,
   "metadata": {},
   "outputs": [
    {
     "name": "stdout",
     "output_type": "stream",
     "text": [
      "['m000', 'm002', 'm003', 'm007', 'm008', 'm011', 'm012', 'm013', 'm019', 'm022', 'm023', 'm025', 'm027', 'm029', 'm034', 'm041']\n"
     ]
    }
   ],
   "source": [
    "# List of clean attenas\n",
    "clean_ants = remove_bad_ants(HH,h5)\n",
    "print clean_ants"
   ]
  },
  {
   "cell_type": "code",
   "execution_count": 363,
   "metadata": {},
   "outputs": [
    {
     "name": "stdout",
     "output_type": "stream",
     "text": [
      "Potential bad antennas  0\n"
     ]
    }
   ],
   "source": [
    "print ('Potential bad antennas '), len(h5.ants)-len(clean_ants)"
   ]
  },
  {
   "cell_type": "code",
   "execution_count": 364,
   "metadata": {},
   "outputs": [
    {
     "name": "stdout",
     "output_type": "stream",
     "text": [
      "Is there antenna you want to remove [Y/N] n\n",
      "['m000', 'm002', 'm003', 'm007', 'm008', 'm011', 'm012', 'm013', 'm019', 'm022', 'm023', 'm025', 'm027', 'm029', 'm034', 'm041']\n"
     ]
    }
   ],
   "source": [
    "ant_to_remove = raw_input('Is there antenna you want to remove [Y/N] ')\n",
    "if ant_to_remove.lower() == 'y':\n",
    "    antenna_to_remove = raw_input('Which antenna you want to remove ')\n",
    "    clean_ants.remove(antenna_to_remove)\n",
    "print clean_ants"
   ]
  },
  {
   "cell_type": "code",
   "execution_count": null,
   "metadata": {},
   "outputs": [],
   "source": []
  },
  {
   "cell_type": "code",
   "execution_count": 365,
   "metadata": {},
   "outputs": [
    {
     "name": "stdout",
     "output_type": "stream",
     "text": [
      "Enter peak frequency to investigate [MHz] 1570.70740625\n",
      "We will use 20 channels on either side of the RFI \n",
      "Tentative freq range are 1570.2 MHz and 1571.2 MHz \n"
     ]
    }
   ],
   "source": [
    "pk_freq = float(raw_input('Enter peak frequency to investigate [MHz] '))\n",
    "print ('We will use 20 channels on either side of the RFI ')\n",
    "print 'Tentative freq range are %.1f MHz and %.1f MHz ' %((pk_freq*1.e6-20*h5.channel_width)/1.e6,\n",
    "                                             (pk_freq*1.e6+20*h5.channel_width)/1.e6)"
   ]
  },
  {
   "cell_type": "code",
   "execution_count": 366,
   "metadata": {},
   "outputs": [
    {
     "name": "stdout",
     "output_type": "stream",
     "text": [
      "Reset frequency [Y/N] y\n",
      "Enter lowest frequency to analyse [MHz]1569.5243201153644\n",
      "Enter highestest frequency to analyse [MHz]1571.8904923846358\n",
      "We are going to get the stats of the RFI between 1569.5 MHz and 1571.9 MHz\n"
     ]
    }
   ],
   "source": [
    "freq_reset = raw_input('Reset frequency [Y/N] ')\n",
    "\n",
    "if freq_reset.lower() == 'y' :\n",
    "    freq_lo = float(raw_input('Enter lowest frequency to analyse [MHz]'))*1.0e6\n",
    "    freq_hi = float(raw_input('Enter highestest frequency to analyse [MHz]'))*1.0e6\n",
    "else:\n",
    "    print('Going to use 20 channels on either side of the Peak frequency')\n",
    "    freq_lo = (pk_freq*1.e6-20*h5.channel_width)\n",
    "    freq_hi = (pk_freq*1.e6+20*h5.channel_width)\n",
    "print('We are going to get the stats of the RFI between %.1f MHz and %.1f MHz') %(freq_lo/1.e6,freq_hi/1.e6)"
   ]
  },
  {
   "cell_type": "code",
   "execution_count": 367,
   "metadata": {},
   "outputs": [],
   "source": [
    "def select_and_apply(h5,clean_ants,flag_file,freq_low,freq_high, pol_to_use):\n",
    "    '''\n",
    "    This function is going to select data with clean antnenas only.\n",
    "    \n",
    "    Input: h5, list of good antennas and a flag file\n",
    "    \n",
    "    Output: flag table\n",
    "    '''\n",
    "    # Reseting previous selection\n",
    "    h5.select()\n",
    "    #Selecting correlation products\n",
    "   \n",
    "    #Appyling flags\n",
    "    #flags = da.from_array(flag_file['flags'], chunks=(1,342,h5.shape[2]))\n",
    "    #h5.source.data.flags = flags\n",
    "    h5._flags = flag_file['flags']\n",
    "    h5.select(corrprods = 'cross',pol = pol_to_use,scans='track',ants = clean_ants,\n",
    "              freqrange=(freq_low,freq_high))\n",
    "    \n",
    "    hh = h5.flags[:,:,:]\n",
    "\n",
    "    return hh,h5.freqs"
   ]
  },
  {
   "cell_type": "code",
   "execution_count": 368,
   "metadata": {},
   "outputs": [],
   "source": [
    "# Flag table\n",
    "Gflags,freqs_used = select_and_apply(h5,clean_ants,flag_file,freq_lo,freq_hi,my_pol)"
   ]
  },
  {
   "cell_type": "code",
   "execution_count": 398,
   "metadata": {},
   "outputs": [
    {
     "data": {
      "text/plain": [
       "(485, 32768, 544)"
      ]
     },
     "execution_count": 398,
     "metadata": {},
     "output_type": "execute_result"
    }
   ],
   "source": [
    "h5.select()\n",
    "h5.shape"
   ]
  },
  {
   "cell_type": "code",
   "execution_count": 369,
   "metadata": {},
   "outputs": [],
   "source": [
    "def bl_length(h5):\n",
    "    '''\n",
    "    This function is going to compute the number baselines lengths.\n",
    "    \n",
    "    Input: h5 object\n",
    "    \n",
    "    Output: List with length of baselines\n",
    "    '''\n",
    "    antlookup = {}\n",
    "    length = []\n",
    "    bl = []\n",
    "    for ant in h5.ants:\n",
    "        antlookup[ant.name] = ant\n",
    "    for prod, baseline in enumerate(h5.corr_products):\n",
    "        bl_vector = antlookup[baseline[0][:4]].baseline_toward(antlookup[baseline[1][:4]])\n",
    "        bl_length = np.linalg.norm(bl_vector)\n",
    "        length.append(bl_length)\n",
    "        bl.append(baseline)\n",
    "    return length,bl"
   ]
  },
  {
   "cell_type": "code",
   "execution_count": 370,
   "metadata": {},
   "outputs": [],
   "source": [
    "# Baseline length\n",
    "length = bl_length(h5)[0]\n",
    "baseline = bl_length(h5)[1]\n",
    "idx = np.argsort(length)"
   ]
  },
  {
   "cell_type": "code",
   "execution_count": 371,
   "metadata": {},
   "outputs": [],
   "source": [
    "def unix2hour(h5):\n",
    "    '''\n",
    "    This function is going to convert unix time to hour of a day SAST\n",
    "    \n",
    "    Input : h5 object\n",
    "    \n",
    "    Output : list with time dumps converted to hour of a day\n",
    "    '''\n",
    "    unix  = h5.timestamps\n",
    "    \n",
    "    local_time = []\n",
    "    for i in range(len(unix)):\n",
    "        local_time.append(datetime.datetime.fromtimestamp((unix[i])).strftime('%H:%M:%S'))\n",
    "        \n",
    "    # Converting time to hour of a day\n",
    "    hour = []\n",
    "    for i in range(len(local_time)):\n",
    "        hour.append(int(round(int(local_time[i][:2]) + int(local_time[i][3:5])/60 + float(local_time[i][-2:])/3600)))\n",
    "    return hour\n",
    "    "
   ]
  },
  {
   "cell_type": "code",
   "execution_count": 372,
   "metadata": {},
   "outputs": [],
   "source": [
    "# hours of a day\n",
    "hours = unix2hour(h5)"
   ]
  },
  {
   "cell_type": "code",
   "execution_count": null,
   "metadata": {},
   "outputs": [],
   "source": []
  },
  {
   "cell_type": "code",
   "execution_count": 373,
   "metadata": {},
   "outputs": [
    {
     "data": {
      "text/plain": [
       "'2018-02-17 14:02:48.872 SAST'"
      ]
     },
     "execution_count": 373,
     "metadata": {},
     "output_type": "execute_result"
    }
   ],
   "source": [
    "katpoint.Timestamp(h5.timestamps[-1]).local()"
   ]
  },
  {
   "cell_type": "code",
   "execution_count": 374,
   "metadata": {},
   "outputs": [],
   "source": [
    "def prob_ave(Gflags,hours):\n",
    "    '''\n",
    "    This function is going to compute the probability of RFI as function of\n",
    "    time and frequency averaged over all the baselines.\n",
    "    \n",
    "    Input: Good flags table, and list of hours in a day\n",
    "    \n",
    "    Output: 2D probabilities array\n",
    "    '''\n",
    "    # 2D prob\n",
    "    Hflags = np.zeros((24,Gflags.shape[1]),dtype=np.float)\n",
    "    counts = np.zeros((24,Gflags.shape[1]),dtype=np.float)\n",
    "    for i in range(Gflags.shape[0]):\n",
    "        Hflags[hours[i],:] += np.sum(Gflags[i,:,:],axis=1).astype(np.float)\n",
    "        counts[hours[i],:] += np.float(Gflags.shape[2])     \n",
    "        \n",
    "    probG = np.nan_to_num(Hflags/counts)\n",
    "    \n",
    "    return probG\n",
    "    "
   ]
  },
  {
   "cell_type": "code",
   "execution_count": 375,
   "metadata": {},
   "outputs": [
    {
     "name": "stderr",
     "output_type": "stream",
     "text": [
      "/data/nadeem/py2_kernel/lib/python2.7/site-packages/ipykernel_launcher.py:17: RuntimeWarning: invalid value encountered in divide\n"
     ]
    }
   ],
   "source": [
    "# 2D probabilities\n",
    "probG = prob_ave(Gflags,hours)"
   ]
  },
  {
   "cell_type": "code",
   "execution_count": 376,
   "metadata": {},
   "outputs": [],
   "source": [
    "def prob_bl(Gflags,hours):\n",
    "    '''\n",
    "    Compute 2D probabilities per baseline\n",
    "    \n",
    "    Input: Good flags table and list of hours in a day\n",
    "    \n",
    "    Output : 2D probabilities per baseline\n",
    "    '''\n",
    "    # 2D prob\n",
    "    big = np.zeros((24,Gflags.shape[1],Gflags.shape[2]))\n",
    "    co = np.zeros((24,Gflags.shape[1],Gflags.shape[2]))\n",
    "    for i in range(Gflags.shape[0]):\n",
    "        big[hours[i],:,:] += Gflags[i,:,:].astype(np.int)\n",
    "        co[hours[i],:,:] += np.int(1)\n",
    "    short = np.nan_to_num(big/co)[:,:,np.argmin(length)]\n",
    "    longs = np.nan_to_num(big/co)[:,:,np.argmax(length)]\n",
    "    return short,longs,big"
   ]
  },
  {
   "cell_type": "code",
   "execution_count": 377,
   "metadata": {},
   "outputs": [
    {
     "name": "stderr",
     "output_type": "stream",
     "text": [
      "/data/nadeem/py2_kernel/lib/python2.7/site-packages/ipykernel_launcher.py:15: RuntimeWarning: invalid value encountered in divide\n",
      "  from ipykernel import kernelapp as app\n",
      "/data/nadeem/py2_kernel/lib/python2.7/site-packages/ipykernel_launcher.py:16: RuntimeWarning: invalid value encountered in divide\n",
      "  app.launch_new_instance()\n"
     ]
    }
   ],
   "source": [
    "prob_bl = prob_bl(Gflags,hours)"
   ]
  },
  {
   "cell_type": "code",
   "execution_count": 378,
   "metadata": {},
   "outputs": [
    {
     "data": {
      "text/plain": [
       "(13, 14)"
      ]
     },
     "execution_count": 378,
     "metadata": {},
     "output_type": "execute_result"
    }
   ],
   "source": [
    "min(hours), max(hours)"
   ]
  },
  {
   "cell_type": "code",
   "execution_count": 379,
   "metadata": {},
   "outputs": [
    {
     "data": {
      "image/png": "[encoded data removed]",
      "text/plain": [
       "<Figure size 1080x864 with 8 Axes>"
      ]
     },
     "metadata": {},
     "output_type": "display_data"
    }
   ],
   "source": [
    "\n",
    "plt.suptitle('RFI probability as function of time and frequency')\n",
    "plt.subplot(221)\n",
    "plt.imshow(probG, cmap=None, interpolation='nearest',aspect='auto',\n",
    "           extent=[freqs_used[0],freqs_used[-1],min(hours),max(hours)])\n",
    "plt.title(my_pol+' (Avaraged over baselines)')\n",
    "plt.ylabel('Time')\n",
    "plt.colorbar()\n",
    "\n",
    "plt.subplot(222)\n",
    "plt.title('Short baseline '+str(round(length[np.argmin(length)],1))+'m')\n",
    "plt.imshow(prob_bl[0] , cmap=None, interpolation='nearest',aspect='auto',\n",
    "           extent=[freqs_used[0],freqs_used[-1],min(hours),max(hours)])\n",
    "plt.yticks([])\n",
    "plt.colorbar()\n",
    "\n",
    "plt.subplot(223)\n",
    "plt.title('Long baseline '+str(round(length[np.argmax(length)],1))+'m')\n",
    "plt.imshow(prob_bl[1], cmap=None, interpolation='nearest',aspect='auto',\n",
    "           extent=[freqs_used[0],freqs_used[-1],min(hours),max(hours)])\n",
    "plt.xlabel('Frequency (MHz)')\n",
    "plt.ylabel('Time')\n",
    "plt.colorbar()\n",
    "\n",
    "plt.subplot(224)\n",
    "plt.title('Diff between short and long baseline')\n",
    "plt.imshow(abs(prob_bl[0].astype(np.float32)-prob_bl[1].astype(np.float32)), cmap='PuOr', \n",
    "           interpolation='nearest',aspect='auto',\n",
    "           extent=[freqs_used[0],freqs_used[-1],min(hours),max(hours)])\n",
    "\n",
    "plt.yticks([])\n",
    "plt.xlabel('Frequency (MHz)')\n",
    "plt.colorbar()\n",
    "\n",
    "plt.show()"
   ]
  },
  {
   "cell_type": "code",
   "execution_count": 380,
   "metadata": {},
   "outputs": [],
   "source": [
    "def flags_per_B(big,idx,Gflags):\n",
    "    b = np.sum(big.astype(float)[:,:,idx], axis=(0,1))\n",
    "    f = np.array(b)\n",
    "    deno = Gflags.shape[0]*Gflags.shape[1]\n",
    "    f = f/deno\n",
    "    f=f*100\n",
    "    return f\n",
    "    "
   ]
  },
  {
   "cell_type": "code",
   "execution_count": 381,
   "metadata": {},
   "outputs": [
    {
     "data": {
      "text/plain": [
       "(448, 90, 120)"
      ]
     },
     "execution_count": 381,
     "metadata": {},
     "output_type": "execute_result"
    }
   ],
   "source": [
    "Gflags.shape"
   ]
  },
  {
   "cell_type": "code",
   "execution_count": 382,
   "metadata": {},
   "outputs": [],
   "source": [
    "f = flags_per_B(prob_bl[2],idx,Gflags)"
   ]
  },
  {
   "cell_type": "code",
   "execution_count": 383,
   "metadata": {},
   "outputs": [
    {
     "name": "stdout",
     "output_type": "stream",
     "text": [
      "[-6.25332771e-09  1.00000000e+02]\n"
     ]
    }
   ],
   "source": [
    "import scipy\n",
    "\n",
    "from scipy.optimize import curve_fit\n",
    "\n",
    "bllen = np.array(length)[idx]\n",
    "percent = f\n",
    "\n",
    "poly = np.polyfit(bllen,f,3)\n",
    "\n",
    "def logconst(xval, a, c):\n",
    "    return a*np.log(xval) + c\n",
    "\n",
    "fit, _ = curve_fit(logconst,bllen,percent)\n",
    "print fit\n"
   ]
  },
  {
   "cell_type": "code",
   "execution_count": 384,
   "metadata": {},
   "outputs": [
    {
     "name": "stdout",
     "output_type": "stream",
     "text": [
      "Min and max baseline length 29.249m 904.239m\n"
     ]
    }
   ],
   "source": [
    "print('Min and max baseline length %.3fm %.3fm') %(min(length),max(length))"
   ]
  },
  {
   "cell_type": "code",
   "execution_count": 385,
   "metadata": {
    "scrolled": false
   },
   "outputs": [
    {
     "data": {
      "image/png": "[encoded data removed]",
      "text/plain": [
       "<Figure size 1080x864 with 1 Axes>"
      ]
     },
     "metadata": {},
     "output_type": "display_data"
    }
   ],
   "source": [
    "plt.figure(figsize=(15,12))\n",
    "plt.plot((np.array(length))[idx],f,'b*')\n",
    "xs=np.linspace(0.,8000.,5000)\n",
    "#plt.plot(xs,np.poly1d(poly)(xs))\n",
    "#plt.plot(xs,logconst(xs, *fit))\n",
    "plt.ylabel('% of RFI')\n",
    "plt.title('RFI % as a function of baseline length')\n",
    "plt.xlabel('Baseline length [m]')\n",
    "#plt.xlim(0,5)\n",
    "plt.grid()\n",
    "plt.show()"
   ]
  },
  {
   "cell_type": "code",
   "execution_count": 386,
   "metadata": {},
   "outputs": [
    {
     "name": "stdout",
     "output_type": "stream",
     "text": [
      "Enter %RFI outlier cut_off 101\n"
     ]
    }
   ],
   "source": [
    "cut_off = float(raw_input('Enter %RFI outlier cut_off '))"
   ]
  },
  {
   "cell_type": "code",
   "execution_count": 387,
   "metadata": {},
   "outputs": [],
   "source": [
    "outlier_list = list((np.array(baseline)[idx][np.where(f>cut_off)]).flatten())\n",
    "if len(outlier_list) > 1:\n",
    "    print('Outlier antenna is '), (max(set(outlier_list), key = outlier_list.count))\n"
   ]
  },
  {
   "cell_type": "code",
   "execution_count": 388,
   "metadata": {},
   "outputs": [
    {
     "data": {
      "image/png": "[encoded data removed]",
      "text/plain": [
       "<Figure size 1080x864 with 1 Axes>"
      ]
     },
     "metadata": {},
     "output_type": "display_data"
    }
   ],
   "source": [
    "plt.figure(figsize=(15,12))\n",
    "plt.plot((np.array(length))[idx],f,'b*')\n",
    "xs=np.linspace(0.,8000.,5000)\n",
    "#plt.plot(xs,np.poly1d(poly)(xs))\n",
    "#plt.plot(xs,logconst(xs, *fit))\n",
    "plt.ylabel('% of RFI')\n",
    "plt.title('RFI % as a function of baseline length')\n",
    "plt.xlabel('Baseline length [m]')\n",
    "plt.ylim(0,cut_off)\n",
    "plt.grid()\n",
    "plt.show()"
   ]
  },
  {
   "cell_type": "code",
   "execution_count": 389,
   "metadata": {},
   "outputs": [
    {
     "data": {
      "text/plain": [
       "array([ 5.71519286e-19, -1.71137913e-16,  1.00000000e+02])"
      ]
     },
     "execution_count": 389,
     "metadata": {},
     "output_type": "execute_result"
    }
   ],
   "source": [
    "import scipy\n",
    "\n",
    "from scipy.optimize import curve_fit\n",
    "\n",
    "bllen = np.array(length)[idx]\n",
    "percent = f\n",
    "\n",
    "np.polyfit(bllen,f,2)\n"
   ]
  },
  {
   "cell_type": "code",
   "execution_count": 390,
   "metadata": {},
   "outputs": [],
   "source": [
    "def flags_per_f(big,idx,Gflags):\n",
    "    b = np.sum(big.astype(float)[:,:,idx], axis=(0,2))\n",
    "    f = np.array(b)\n",
    "    deno = Gflags.shape[0]*Gflags.shape[2]\n",
    "    f = f/deno\n",
    "    f=f*100\n",
    "    return f\n",
    "    "
   ]
  },
  {
   "cell_type": "code",
   "execution_count": 391,
   "metadata": {},
   "outputs": [],
   "source": [
    "c = flags_per_f(prob_bl[2],idx,Gflags)"
   ]
  },
  {
   "cell_type": "code",
   "execution_count": 392,
   "metadata": {},
   "outputs": [
    {
     "name": "stdout",
     "output_type": "stream",
     "text": [
      "=========\n",
      "RFI stats\n",
      "=========\n",
      "Min 100.0\n",
      "Max 100.0\n",
      "Mean 100.0\n",
      "Median 100.0\n",
      " \n"
     ]
    }
   ],
   "source": [
    "print '========='\n",
    "print 'RFI stats'\n",
    "print '========='\n",
    "print 'Min %.1f\\nMax %.1f\\nMean %.1f\\nMedian %.1f\\n '%(c.min(),c.max(),c.mean(), np.median(c))"
   ]
  },
  {
   "cell_type": "code",
   "execution_count": 393,
   "metadata": {},
   "outputs": [
    {
     "data": {
      "image/png": "[encoded data removed]",
      "text/plain": [
       "<Figure size 1080x864 with 1 Axes>"
      ]
     },
     "metadata": {},
     "output_type": "display_data"
    }
   ],
   "source": [
    "plt.plot(freqs_used/1.0e6,c,'b*')\n",
    "plt.ylabel('% of RFI')\n",
    "plt.title('RFI % as a function of frequency')\n",
    "plt.xlabel('Frequency [MHz]')\n",
    "plt.ylim(0,cut_off)\n",
    "plt.grid()\n",
    "plt.show()"
   ]
  },
  {
   "cell_type": "code",
   "execution_count": 394,
   "metadata": {},
   "outputs": [
    {
     "data": {
      "text/plain": [
       "Text(0.5,0,'% of RFI')"
      ]
     },
     "execution_count": 394,
     "metadata": {},
     "output_type": "execute_result"
    },
    {
     "data": {
      "image/png": "[encoded data removed]",
      "text/plain": [
       "<Figure size 1080x864 with 1 Axes>"
      ]
     },
     "metadata": {},
     "output_type": "display_data"
    }
   ],
   "source": [
    "plt.hist(c,50);\n",
    "plt.xlabel('% of RFI')"
   ]
  },
  {
   "cell_type": "code",
   "execution_count": null,
   "metadata": {},
   "outputs": [],
   "source": []
  },
  {
   "cell_type": "code",
   "execution_count": null,
   "metadata": {},
   "outputs": [],
   "source": []
  }
 ],
 "metadata": {
  "kernelspec": {
   "display_name": "Python 2",
   "language": "python",
   "name": "python2"
  },
  "language_info": {
   "codemirror_mode": {
    "name": "ipython",
    "version": 2
   },
   "file_extension": ".py",
   "mimetype": "text/x-python",
   "name": "python",
   "nbconvert_exporter": "python",
   "pygments_lexer": "ipython2",
   "version": "2.7.12"
  }
 },
 "nbformat": 4,
 "nbformat_minor": 2
}
