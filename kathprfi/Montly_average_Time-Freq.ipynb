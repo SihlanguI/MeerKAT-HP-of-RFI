{
 "cells": [
  {
   "cell_type": "code",
   "execution_count": 622,
   "metadata": {},
   "outputs": [],
   "source": [
    "import pandas as pd\n",
    "import numpy as np\n",
    "import os,fnmatch\n",
    "import xarray as xr\n",
    "import katdal\n",
    "import matplotlib.pylab as plt\n",
    "from matplotlib import rcParams\n",
    "from functools import reduce\n",
    "import pandas.core.nanops as nanops\n",
    "rcParams['font.family'] = 'sans-serif'\n",
    "rcParams['font.sans-serif'] = ['Tahoma']\n",
    "rcParams['figure.figsize'] = (11.7,8.27)\n",
    "rcParams['font.size']=13"
   ]
  },
  {
   "cell_type": "code",
   "execution_count": 2,
   "metadata": {},
   "outputs": [],
   "source": [
    "np_load_old = np.load\n",
    "\n",
    "# modify the default parameters of np.load\n",
    "np.load = lambda *a,**k: np_load_old(*a, allow_pickle=True, **k)"
   ]
  },
  {
   "cell_type": "code",
   "execution_count": 381,
   "metadata": {},
   "outputs": [],
   "source": [
    "data1 = np.load('/data/isaac/DR1/DR1_O_Data_FT.npy')\n",
    "data0 = np.load('/data/isaac/DR0/DR0_O_Data_FT.npy')"
   ]
  },
  {
   "cell_type": "code",
   "execution_count": 382,
   "metadata": {},
   "outputs": [],
   "source": [
    "Data = []\n",
    "mon =[]\n",
    "for i in range(len(data1)):\n",
    "    if data1[i][1][5:][0] == '0':\n",
    "        Data.append([data1[0][0],int(data1[i][1][5:][1])])\n",
    "        mon.append(int(data1[i][1][5:][1]))\n",
    "    else:\n",
    "        Data.append([data1[0][0],int(data1[i][1][5:])])\n",
    "        mon.append(int(data1[i][1][5:]))"
   ]
  },
  {
   "cell_type": "code",
   "execution_count": 383,
   "metadata": {},
   "outputs": [],
   "source": [
    "for j in range(len(data0)):\n",
    "    if str(data0[j][2])[4:][0] == '0':\n",
    "        Data.append([data0[j][0],int(str(data0[j][2])[4:][1])])\n",
    "        mon.append(int(str(data0[j][2])[4:][1]))\n",
    "    else:\n",
    "        Data.append([data0[j][0],int(str(data0[j][2])[4:6])])\n",
    "        mon.append(int(str(data0[j][2])[4:6]))"
   ]
  },
  {
   "cell_type": "code",
   "execution_count": 384,
   "metadata": {},
   "outputs": [],
   "source": [
    "Data = np.array(Data)"
   ]
  },
  {
   "cell_type": "code",
   "execution_count": 544,
   "metadata": {},
   "outputs": [],
   "source": [
    "df1 = pd.DataFrame(Data,columns=['probability','Month'])"
   ]
  },
  {
   "cell_type": "code",
   "execution_count": 386,
   "metadata": {},
   "outputs": [
    {
     "data": {
      "text/html": [
       "<div>\n",
       "<style scoped>\n",
       "    .dataframe tbody tr th:only-of-type {\n",
       "        vertical-align: middle;\n",
       "    }\n",
       "\n",
       "    .dataframe tbody tr th {\n",
       "        vertical-align: top;\n",
       "    }\n",
       "\n",
       "    .dataframe thead th {\n",
       "        text-align: right;\n",
       "    }\n",
       "</style>\n",
       "<table border=\"1\" class=\"dataframe\">\n",
       "  <thead>\n",
       "    <tr style=\"text-align: right;\">\n",
       "      <th></th>\n",
       "      <th>probability</th>\n",
       "      <th>Month</th>\n",
       "    </tr>\n",
       "  </thead>\n",
       "  <tbody>\n",
       "    <tr>\n",
       "      <td>0</td>\n",
       "      <td>[[nan, nan, nan, nan, nan, nan, nan, nan, nan,...</td>\n",
       "      <td>9</td>\n",
       "    </tr>\n",
       "    <tr>\n",
       "      <td>1</td>\n",
       "      <td>[[nan, nan, nan, nan, nan, nan, nan, nan, nan,...</td>\n",
       "      <td>10</td>\n",
       "    </tr>\n",
       "    <tr>\n",
       "      <td>2</td>\n",
       "      <td>[[nan, nan, nan, nan, nan, nan, nan, nan, nan,...</td>\n",
       "      <td>10</td>\n",
       "    </tr>\n",
       "    <tr>\n",
       "      <td>3</td>\n",
       "      <td>[[nan, nan, nan, nan, nan, nan, nan, nan, nan,...</td>\n",
       "      <td>6</td>\n",
       "    </tr>\n",
       "    <tr>\n",
       "      <td>4</td>\n",
       "      <td>[[nan, nan, nan, nan, nan, nan, nan, nan, nan,...</td>\n",
       "      <td>10</td>\n",
       "    </tr>\n",
       "  </tbody>\n",
       "</table>\n",
       "</div>"
      ],
      "text/plain": [
       "                                         probability Month\n",
       "0  [[nan, nan, nan, nan, nan, nan, nan, nan, nan,...     9\n",
       "1  [[nan, nan, nan, nan, nan, nan, nan, nan, nan,...    10\n",
       "2  [[nan, nan, nan, nan, nan, nan, nan, nan, nan,...    10\n",
       "3  [[nan, nan, nan, nan, nan, nan, nan, nan, nan,...     6\n",
       "4  [[nan, nan, nan, nan, nan, nan, nan, nan, nan,...    10"
      ]
     },
     "execution_count": 386,
     "metadata": {},
     "output_type": "execute_result"
    }
   ],
   "source": [
    "df.head()"
   ]
  },
  {
   "cell_type": "code",
   "execution_count": 387,
   "metadata": {},
   "outputs": [],
   "source": [
    "#np.where(df['Month'].values==3)"
   ]
  },
  {
   "cell_type": "code",
   "execution_count": 388,
   "metadata": {},
   "outputs": [],
   "source": [
    "new_df = df.sort_values(by=['Month']).drop(df.index[76])"
   ]
  },
  {
   "cell_type": "code",
   "execution_count": 615,
   "metadata": {},
   "outputs": [],
   "source": [
    "data1 = xr.open_zarr('/data/isaac/DR1/june.zarr/')\n",
    "data2 = xr.open_zarr('/data/isaac/DR0June.zarr/')"
   ]
  },
  {
   "cell_type": "code",
   "execution_count": 616,
   "metadata": {},
   "outputs": [],
   "source": [
    "data = data1+data2"
   ]
  },
  {
   "cell_type": "code",
   "execution_count": 617,
   "metadata": {},
   "outputs": [],
   "source": [
    "m = data.master.astype(float)\n",
    "c = data.counter.astype(float)"
   ]
  },
  {
   "cell_type": "code",
   "execution_count": 618,
   "metadata": {},
   "outputs": [],
   "source": [
    "mm = m.sum(dim=['baseline','elevation','azimuth'])\n",
    "cc = c.sum(dim=['baseline','elevation','azimuth'])"
   ]
  },
  {
   "cell_type": "code",
   "execution_count": 619,
   "metadata": {},
   "outputs": [],
   "source": [
    "p = mm/cc"
   ]
  },
  {
   "cell_type": "code",
   "execution_count": 623,
   "metadata": {
    "scrolled": false
   },
   "outputs": [
    {
     "data": {
      "image/png": "[encoded data removed]",
      "text/plain": [
       "<Figure size 842.4x595.44 with 1 Axes>"
      ]
     },
     "metadata": {
      "needs_background": "light"
     },
     "output_type": "display_data"
    }
   ],
   "source": [
    "plt.imshow(p.T,aspect='auto')\n",
    "#plt.title('June')\n",
    "plt.xlabel('Time of Day [UTC]', fontsize=15)\n",
    "plt.ylabel('Frequency [MHz]', fontsize=15)\n",
    "plt.ylim(0,4096)\n",
    "plt.yticks(np.arange(0,4096,500),np.arange(856,1712,100))\n",
    "#plt.colorbar()\n",
    "plt.show()"
   ]
  },
  {
   "cell_type": "code",
   "execution_count": 510,
   "metadata": {},
   "outputs": [],
   "source": [
    "df = pd.read_csv('/data/isaac/DR1/resultsdr1/All_2018_imaging_observations.csv')\n",
    "\n",
    "\n",
    "def Get_zarr(path2zarr):\n",
    "    fls = os.listdir(path2zarr)\n",
    "    zarr = []\n",
    "    for f in fls:\n",
    "        if 'DR1.zarr' in f:\n",
    "            zarr.append(path2zarr+f)\n",
    "    return zarr\n",
    "            \n",
    "path2zarr= '/data/isaac/DR1/resultsdr1/'\n",
    "fname = Get_zarr(path2zarr)\n",
    "\n",
    "fn = []\n",
    "for i in range(len(fname)):\n",
    "    fn.append('http://archive-gw-1.kat.ac.za:7480/'+fname[i][35:45]+'/'+str(fname[i][35:]))\n",
    "\n",
    "df_new = df[df.FullLink.isin(fn)]"
   ]
  },
  {
   "cell_type": "code",
   "execution_count": 517,
   "metadata": {},
   "outputs": [
    {
     "data": {
      "text/plain": [
       "1      2018-07-30 01:40:14.559000\n",
       "3      2018-09-16 21:04:22.404000\n",
       "4      2018-07-08 21:59:23.673000\n",
       "5      2018-09-02 04:26:29.275000\n",
       "8      2018-10-27 23:01:08.302000\n",
       "                  ...            \n",
       "327    2018-06-28 21:20:51.617000\n",
       "329    2018-10-22 15:30:21.620000\n",
       "338    2018-06-21 16:38:58.191000\n",
       "350    2018-05-29 08:02:03.024000\n",
       "355    2018-07-11 10:32:37.103000\n",
       "Name: UTC_End, Length: 131, dtype: object"
      ]
     },
     "execution_count": 517,
     "metadata": {},
     "output_type": "execute_result"
    }
   ],
   "source": [
    "df_new['UTC_End']"
   ]
  },
  {
   "cell_type": "code",
   "execution_count": 518,
   "metadata": {},
   "outputs": [],
   "source": [
    "month = []\n",
    "for i in range(len(df_new['UTC_End'])):\n",
    "    month.append(int(df_new['UTC_End'].iloc[i][5:7]))\n",
    "\n",
    "df_new['Month'] = month"
   ]
  },
  {
   "cell_type": "code",
   "execution_count": 552,
   "metadata": {},
   "outputs": [],
   "source": [
    "mon = ['May','June','July','August','September','October','November','December']"
   ]
  },
  {
   "cell_type": "code",
   "execution_count": 553,
   "metadata": {},
   "outputs": [],
   "source": [
    "FilesList = []\n",
    "mon_dataset = df_new[df_new['Month']==5]['FullLink']\n",
    "for j in range(len(mon_dataset)):\n",
    "        FilesList.append('/data/isaac/DR1/resultsdr1/DR1.zarr'+mon_dataset.iloc[j][35:45]+'_sdp_l0.full.rdb')\n",
    "        "
   ]
  },
  {
   "cell_type": "code",
   "execution_count": 554,
   "metadata": {},
   "outputs": [
    {
     "name": "stdout",
     "output_type": "stream",
     "text": [
      "/data/isaac/DR1/resultsdr1/DR1.zarr1527564238_sdp_l0.full.rdb\n",
      "/data/isaac/DR1/resultsdr1/DR1.zarr1527542514_sdp_l0.full.rdb\n",
      "/data/isaac/DR1/resultsdr1/DR1.zarr1527520524_sdp_l0.full.rdb\n",
      "/data/isaac/DR1/resultsdr1/DR1.zarr1527587543_sdp_l0.full.rdb\n",
      "/data/isaac/DR1/resultsdr1/DR1.zarr1527577770_sdp_l0.full.rdb\n"
     ]
    }
   ],
   "source": [
    "Chunk0 = xr.open_zarr(FilesList[0])\n",
    "\n",
    "MyDATA = Chunk0\n",
    "for Myfiles in FilesList[1:10]:\n",
    "    print(Myfiles)\n",
    "    ChunkToAdd = xr.open_zarr(Myfiles)\n",
    "    MyDATA = MyDATA+ChunkToAdd"
   ]
  },
  {
   "cell_type": "code",
   "execution_count": 525,
   "metadata": {},
   "outputs": [],
   "source": [
    "m = MyDATA.master.sum(dim=['baseline','elevation','azimuth'])\n",
    "c = MyDATA.counter.sum(dim=['baseline','elevation','azimuth'])\n",
    "\n",
    "p = m.astype(float)/c.astype(float)"
   ]
  },
  {
   "cell_type": "code",
   "execution_count": 614,
   "metadata": {},
   "outputs": [
    {
     "data": {
      "image/png": "[encoded data removed]",
      "text/plain": [
       "<Figure size 842.4x595.44 with 1 Axes>"
      ]
     },
     "metadata": {
      "needs_background": "light"
     },
     "output_type": "display_data"
    }
   ],
   "source": [
    "plt.imshow(p.T,aspect='auto')\n",
    "plt.title(mon[0])\n",
    "plt.xlabel('Time of Day [UTC]', fontsize=15)\n",
    "plt.ylabel('Frequency [MHz]', fontsize=15)\n",
    "plt.ylim(0,4096)\n",
    "plt.yticks(np.arange(0,4096,500),np.arange(856,1712,100))\n",
    "plt.savefig(mon[0]+'png')"
   ]
  },
  {
   "cell_type": "code",
   "execution_count": 540,
   "metadata": {},
   "outputs": [
    {
     "data": {
      "text/plain": [
       "array([ 856,  956, 1056, 1156, 1256, 1356, 1456, 1556, 1656])"
      ]
     },
     "execution_count": 540,
     "metadata": {},
     "output_type": "execute_result"
    }
   ],
   "source": [
    "np.arange(856,1712,100)"
   ]
  },
  {
   "cell_type": "code",
   "execution_count": 543,
   "metadata": {},
   "outputs": [
    {
     "data": {
      "text/plain": [
       "array([   0,  500, 1000, 1500, 2000, 2500, 3000, 3500, 4000])"
      ]
     },
     "execution_count": 543,
     "metadata": {},
     "output_type": "execute_result"
    }
   ],
   "source": [
    "np.arange(0,4096,500)"
   ]
  },
  {
   "cell_type": "code",
   "execution_count": 578,
   "metadata": {},
   "outputs": [],
   "source": [
    "df0 = pd.read_csv('/data/isaac/DR0/infoDR0.csv')\n",
    "\n",
    "def Get_zarr0(path2zarr0):\n",
    "    fls = os.listdir(path2zarr0)\n",
    "    zarr = []\n",
    "    for f in fls:\n",
    "        if 'DR0.zarr1' in f:\n",
    "            zarr.append(path2zarr0+f)\n",
    "    return zarr\n",
    "            \n",
    "path2zarr0= '/data/isaac/DR0/results/'\n",
    "fname0 = Get_zarr0(path2zarr0)\n",
    "\n",
    "\n",
    "fn0 = []\n",
    "for i in range(len(fname0)):\n",
    "    fn0.append(fname0[i][32:42]+'_sdp_l0')\n",
    "\n",
    "df_new0 = df0[df0.Filename.isin(fn0)]\n",
    "\n",
    "\n",
    "month0 = []\n",
    "for i in range(len(df_new0['date'])):\n",
    "    month0.append(int(str(df_new0['date'].iloc[i])[4:6]))\n",
    "\n",
    "df_new0['Month'] = month0"
   ]
  },
  {
   "cell_type": "code",
   "execution_count": 590,
   "metadata": {},
   "outputs": [
    {
     "data": {
      "text/html": [
       "<div>\n",
       "<style scoped>\n",
       "    .dataframe tbody tr th:only-of-type {\n",
       "        vertical-align: middle;\n",
       "    }\n",
       "\n",
       "    .dataframe tbody tr th {\n",
       "        vertical-align: top;\n",
       "    }\n",
       "\n",
       "    .dataframe thead th {\n",
       "        text-align: right;\n",
       "    }\n",
       "</style>\n",
       "<table border=\"1\" class=\"dataframe\">\n",
       "  <thead>\n",
       "    <tr style=\"text-align: right;\">\n",
       "      <th></th>\n",
       "      <th>Unnamed: 0</th>\n",
       "      <th>Filename</th>\n",
       "      <th>obs_len</th>\n",
       "      <th>date</th>\n",
       "      <th>Month</th>\n",
       "    </tr>\n",
       "  </thead>\n",
       "  <tbody>\n",
       "    <tr>\n",
       "      <td>0</td>\n",
       "      <td>0</td>\n",
       "      <td>1530510128_sdp_l0</td>\n",
       "      <td>1079.543291</td>\n",
       "      <td>20180702</td>\n",
       "      <td>7</td>\n",
       "    </tr>\n",
       "    <tr>\n",
       "      <td>2</td>\n",
       "      <td>2</td>\n",
       "      <td>1529209968_sdp_l0</td>\n",
       "      <td>30683.019322</td>\n",
       "      <td>20180615</td>\n",
       "      <td>6</td>\n",
       "    </tr>\n",
       "    <tr>\n",
       "      <td>3</td>\n",
       "      <td>3</td>\n",
       "      <td>1538843813_sdp_l0</td>\n",
       "      <td>10563.531020</td>\n",
       "      <td>20181006</td>\n",
       "      <td>10</td>\n",
       "    </tr>\n",
       "    <tr>\n",
       "      <td>5</td>\n",
       "      <td>5</td>\n",
       "      <td>1537201908_sdp_l0</td>\n",
       "      <td>34217.524023</td>\n",
       "      <td>20180917</td>\n",
       "      <td>9</td>\n",
       "    </tr>\n",
       "    <tr>\n",
       "      <td>7</td>\n",
       "      <td>7</td>\n",
       "      <td>1536252666_sdp_l0</td>\n",
       "      <td>35536.965824</td>\n",
       "      <td>20180906</td>\n",
       "      <td>9</td>\n",
       "    </tr>\n",
       "    <tr>\n",
       "      <td>...</td>\n",
       "      <td>...</td>\n",
       "      <td>...</td>\n",
       "      <td>...</td>\n",
       "      <td>...</td>\n",
       "      <td>...</td>\n",
       "    </tr>\n",
       "    <tr>\n",
       "      <td>361</td>\n",
       "      <td>361</td>\n",
       "      <td>1534929492_sdp_l0</td>\n",
       "      <td>63.972936</td>\n",
       "      <td>20180822</td>\n",
       "      <td>8</td>\n",
       "    </tr>\n",
       "    <tr>\n",
       "      <td>362</td>\n",
       "      <td>362</td>\n",
       "      <td>1541481280_sdp_l0</td>\n",
       "      <td>791.665080</td>\n",
       "      <td>20181105</td>\n",
       "      <td>11</td>\n",
       "    </tr>\n",
       "    <tr>\n",
       "      <td>372</td>\n",
       "      <td>372</td>\n",
       "      <td>1539869556_sdp_l0</td>\n",
       "      <td>455.807167</td>\n",
       "      <td>20181018</td>\n",
       "      <td>10</td>\n",
       "    </tr>\n",
       "    <tr>\n",
       "      <td>373</td>\n",
       "      <td>373</td>\n",
       "      <td>1536219582_sdp_l0</td>\n",
       "      <td>479.797018</td>\n",
       "      <td>20180906</td>\n",
       "      <td>9</td>\n",
       "    </tr>\n",
       "    <tr>\n",
       "      <td>378</td>\n",
       "      <td>378</td>\n",
       "      <td>1539081254_sdp_l0</td>\n",
       "      <td>31.986468</td>\n",
       "      <td>20181009</td>\n",
       "      <td>10</td>\n",
       "    </tr>\n",
       "  </tbody>\n",
       "</table>\n",
       "<p>266 rows × 5 columns</p>\n",
       "</div>"
      ],
      "text/plain": [
       "     Unnamed: 0           Filename       obs_len      date  Month\n",
       "0             0  1530510128_sdp_l0   1079.543291  20180702      7\n",
       "2             2  1529209968_sdp_l0  30683.019322  20180615      6\n",
       "3             3  1538843813_sdp_l0  10563.531020  20181006     10\n",
       "5             5  1537201908_sdp_l0  34217.524023  20180917      9\n",
       "7             7  1536252666_sdp_l0  35536.965824  20180906      9\n",
       "..          ...                ...           ...       ...    ...\n",
       "361         361  1534929492_sdp_l0     63.972936  20180822      8\n",
       "362         362  1541481280_sdp_l0    791.665080  20181105     11\n",
       "372         372  1539869556_sdp_l0    455.807167  20181018     10\n",
       "373         373  1536219582_sdp_l0    479.797018  20180906      9\n",
       "378         378  1539081254_sdp_l0     31.986468  20181009     10\n",
       "\n",
       "[266 rows x 5 columns]"
      ]
     },
     "execution_count": 590,
     "metadata": {},
     "output_type": "execute_result"
    }
   ],
   "source": [
    "df_new0"
   ]
  },
  {
   "cell_type": "code",
   "execution_count": 598,
   "metadata": {},
   "outputs": [
    {
     "data": {
      "text/plain": [
       "0      1530510128_sdp_l0\n",
       "23     1530919539_sdp_l0\n",
       "25     1530878456_sdp_l0\n",
       "33     1532311489_sdp_l0\n",
       "37     1530999556_sdp_l0\n",
       "39     1532811076_sdp_l0\n",
       "46     1530749139_sdp_l0\n",
       "48     1530718572_sdp_l0\n",
       "50     1530628393_sdp_l0\n",
       "51     1532725253_sdp_l0\n",
       "52     1531777026_sdp_l0\n",
       "56     1532466465_sdp_l0\n",
       "61     1530652463_sdp_l0\n",
       "91     1531234096_sdp_l0\n",
       "92     1530777378_sdp_l0\n",
       "97     1530542152_sdp_l0\n",
       "117    1531230215_sdp_l0\n",
       "119    1530803948_sdp_l0\n",
       "126    1530515590_sdp_l0\n",
       "139    1530525051_sdp_l0\n",
       "169    1532098454_sdp_l0\n",
       "192    1532458927_sdp_l0\n",
       "193    1530871758_sdp_l0\n",
       "197    1530924312_sdp_l0\n",
       "198    1530746754_sdp_l0\n",
       "211    1532096696_sdp_l0\n",
       "253    1530774648_sdp_l0\n",
       "267    1532083038_sdp_l0\n",
       "295    1530926442_sdp_l0\n",
       "302    1530839176_sdp_l0\n",
       "304    1532462485_sdp_l0\n",
       "332    1531975410_sdp_l0\n",
       "342    1531304170_sdp_l0\n",
       "Name: Filename, dtype: object"
      ]
     },
     "execution_count": 598,
     "metadata": {},
     "output_type": "execute_result"
    }
   ],
   "source": [
    "mon_dataset0['Filename']"
   ]
  },
  {
   "cell_type": "code",
   "execution_count": 611,
   "metadata": {},
   "outputs": [],
   "source": [
    "mon_dataset0 = df_new0[df_new0['Month']==7]\n",
    "FilesList = [] \n",
    "for i in range(len(mon_dataset0)):\n",
    "        FilesList.append('/data/isaac/DR0/results'+mon_dataset0['Filename'].iloc[i]+'.full.rdb')"
   ]
  },
  {
   "cell_type": "code",
   "execution_count": 613,
   "metadata": {},
   "outputs": [
    {
     "data": {
      "text/plain": [
       "['/data/isaac/DR0/results1530510128_sdp_l0.full.rdb',\n",
       " '/data/isaac/DR0/results1530919539_sdp_l0.full.rdb',\n",
       " '/data/isaac/DR0/results1530878456_sdp_l0.full.rdb',\n",
       " '/data/isaac/DR0/results1532311489_sdp_l0.full.rdb',\n",
       " '/data/isaac/DR0/results1530999556_sdp_l0.full.rdb',\n",
       " '/data/isaac/DR0/results1532811076_sdp_l0.full.rdb',\n",
       " '/data/isaac/DR0/results1530749139_sdp_l0.full.rdb',\n",
       " '/data/isaac/DR0/results1530718572_sdp_l0.full.rdb',\n",
       " '/data/isaac/DR0/results1530628393_sdp_l0.full.rdb',\n",
       " '/data/isaac/DR0/results1532725253_sdp_l0.full.rdb',\n",
       " '/data/isaac/DR0/results1531777026_sdp_l0.full.rdb',\n",
       " '/data/isaac/DR0/results1532466465_sdp_l0.full.rdb',\n",
       " '/data/isaac/DR0/results1530652463_sdp_l0.full.rdb',\n",
       " '/data/isaac/DR0/results1531234096_sdp_l0.full.rdb',\n",
       " '/data/isaac/DR0/results1530777378_sdp_l0.full.rdb',\n",
       " '/data/isaac/DR0/results1530542152_sdp_l0.full.rdb',\n",
       " '/data/isaac/DR0/results1531230215_sdp_l0.full.rdb',\n",
       " '/data/isaac/DR0/results1530803948_sdp_l0.full.rdb',\n",
       " '/data/isaac/DR0/results1530515590_sdp_l0.full.rdb',\n",
       " '/data/isaac/DR0/results1530525051_sdp_l0.full.rdb',\n",
       " '/data/isaac/DR0/results1532098454_sdp_l0.full.rdb',\n",
       " '/data/isaac/DR0/results1532458927_sdp_l0.full.rdb',\n",
       " '/data/isaac/DR0/results1530871758_sdp_l0.full.rdb',\n",
       " '/data/isaac/DR0/results1530924312_sdp_l0.full.rdb',\n",
       " '/data/isaac/DR0/results1530746754_sdp_l0.full.rdb',\n",
       " '/data/isaac/DR0/results1532096696_sdp_l0.full.rdb',\n",
       " '/data/isaac/DR0/results1530774648_sdp_l0.full.rdb',\n",
       " '/data/isaac/DR0/results1532083038_sdp_l0.full.rdb',\n",
       " '/data/isaac/DR0/results1530926442_sdp_l0.full.rdb',\n",
       " '/data/isaac/DR0/results1530839176_sdp_l0.full.rdb',\n",
       " '/data/isaac/DR0/results1532462485_sdp_l0.full.rdb',\n",
       " '/data/isaac/DR0/results1531975410_sdp_l0.full.rdb',\n",
       " '/data/isaac/DR0/results1531304170_sdp_l0.full.rdb']"
      ]
     },
     "execution_count": 613,
     "metadata": {},
     "output_type": "execute_result"
    }
   ],
   "source": [
    "FilesList"
   ]
  },
  {
   "cell_type": "code",
   "execution_count": null,
   "metadata": {},
   "outputs": [],
   "source": []
  }
 ],
 "metadata": {
  "kernelspec": {
   "display_name": "Python 3",
   "language": "python",
   "name": "python3"
  },
  "language_info": {
   "codemirror_mode": {
    "name": "ipython",
    "version": 3
   },
   "file_extension": ".py",
   "mimetype": "text/x-python",
   "name": "python",
   "nbconvert_exporter": "python",
   "pygments_lexer": "ipython3",
   "version": "3.6.8"
  }
 },
 "nbformat": 4,
 "nbformat_minor": 2
}
