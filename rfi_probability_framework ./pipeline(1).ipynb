{
 "cells": [
  {
   "cell_type": "code",
   "execution_count": 118,
   "metadata": {},
   "outputs": [],
   "source": [
    "!export http_proxy=\n",
    "import katdal\n",
    "import h5py\n",
    "import numpy as np\n",
    "import matplotlib as plt\n",
    "import xarray as xr\n",
    "import pandas as pd\n",
    "import pylab as plt\n",
    "import time as tme"
   ]
  },
  {
   "cell_type": "code",
   "execution_count": 5,
   "metadata": {},
   "outputs": [],
   "source": [
    "# Reading in the visibility file and the flag file\n",
    "visfile = katdal.open('/scratch2/isaac/1532311489_sdp_l0.rdb')\n",
    "flagfile =h5py.File('/scratch2/isaac/1532311489_sdp_l0_flags.h5')"
   ]
  },
  {
   "cell_type": "code",
   "execution_count": 191,
   "metadata": {},
   "outputs": [],
   "source": [
    "# Reading in the full visibity file\n",
    "fullvis = katdal.open('/scratch2/isaac/1532311489_sdp_l0.full.rdb')"
   ]
  },
  {
   "cell_type": "code",
   "execution_count": 193,
   "metadata": {},
   "outputs": [],
   "source": [
    "# Selecting data from the full visibility file\n",
    "fullvis.select(pol = 'HH',corrprods='cross',scans='track')"
   ]
  },
  {
   "cell_type": "code",
   "execution_count": 194,
   "metadata": {},
   "outputs": [],
   "source": [
    "# Getting the azmuth and elevation\n",
    "az = fullvis.az\n",
    "el = fullvis.el"
   ]
  },
  {
   "cell_type": "code",
   "execution_count": 195,
   "metadata": {},
   "outputs": [],
   "source": [
    "azmean = (np.array([np.mean(az[:][i]) for i in range(az.shape[0])])).astype(int)\n",
    "elmean = (np.array([np.mean(el[:][i]) for i in range(el.shape[0])])).astype(int)"
   ]
  },
  {
   "cell_type": "code",
   "execution_count": 10,
   "metadata": {},
   "outputs": [],
   "source": [
    "def select(visfile,flagfile, pol_to_use, corrprod,scan):\n",
    "    '''\n",
    "    Selecting the correlection products.\n",
    "    \n",
    "    Input: polirization product to use, corr products type(i.e cross or auto) and type of scans\n",
    "    \n",
    "    Output: visibity file and flag file\n",
    "    '''\n",
    "    return visfile.select(corrprods = corrprod, pol = pol_to_use, scans = scan)"
   ]
  },
  {
   "cell_type": "code",
   "execution_count": 11,
   "metadata": {},
   "outputs": [],
   "source": [
    "select(visfile,flagfile,pol_to_use = 'HH',corrprod='cross',scan='track')"
   ]
  },
  {
   "cell_type": "code",
   "execution_count": 24,
   "metadata": {},
   "outputs": [],
   "source": [
    "def apply_flags(visfile,flagfile):\n",
    "    from dask import array as da\n",
    "    '''\n",
    "    This function is going to apply flag table to the data.\n",
    "        \n",
    "    Input : Flag file and data file\n",
    "    \n",
    "    Output : The flag table\n",
    "    '''\n",
    "    flags = da.from_array(flagfile['flags'], chunks=(1, 342, visfile.shape[2]))\n",
    "    visfile.source.data.flags = flags\n",
    "\n",
    "    flagP = visfile.flags[:, :, :]\n",
    "    return flagP"
   ]
  },
  {
   "cell_type": "code",
   "execution_count": 197,
   "metadata": {},
   "outputs": [],
   "source": [
    "all_flags = apply_flags(visfile,flagfile)"
   ]
  },
  {
   "cell_type": "code",
   "execution_count": 93,
   "metadata": {},
   "outputs": [],
   "source": [
    "def get_time_idx(visfile):\n",
    "    import datetime\n",
    "    '''\n",
    "    This function is going to convert unix time to hour of a day\n",
    "    \n",
    "    Input : h5 obeject\n",
    "    \n",
    "    Output : list with time dumps converted to hour of a day\n",
    "    '''\n",
    "    unix  = visfile.timestamps\n",
    "\n",
    "    local_time = []\n",
    "    for i in range(len(unix)):\n",
    "        local_time.append(datetime.datetime.fromtimestamp((unix[i])).strftime('%H:%M:%S'))\n",
    "\n",
    "    # Converting time to hour of a day\n",
    "    hour = []\n",
    "    for i in range(len(local_time)):\n",
    "        hour.append(int(round(int(local_time[i][:2]) + int(local_time[i][3:5])/60 + float(local_time[i][-2:])/3600)))\n",
    "    return np.array(hour)[None,:]"
   ]
  },
  {
   "cell_type": "code",
   "execution_count": 94,
   "metadata": {},
   "outputs": [],
   "source": [
    "time_idx = get_time_idx(visfile)"
   ]
  },
  {
   "cell_type": "code",
   "execution_count": 88,
   "metadata": {},
   "outputs": [],
   "source": [
    "def get_az_idx(azmean,bins):\n",
    "    '''\n",
    "    This function is going get the index of the azimuth \n",
    "    \n",
    "    Input : List of Azimuthal angle and azimuthal bins\n",
    "    \n",
    "    Output : Azimuthal index\n",
    "    '''\n",
    "    az_idx = []\n",
    "    for az in azmean:\n",
    "        for j in range(len(bins)-1):\n",
    "            if bins[j] <= az < bins[j+1]:\n",
    "                az_idx.append(j)\n",
    "    \n",
    "    return np.array(az_idx)[None,:]"
   ]
  },
  {
   "cell_type": "code",
   "execution_count": 89,
   "metadata": {},
   "outputs": [],
   "source": [
    "az_idx = get_az_idx(azmean,np.arange(0,370,15))"
   ]
  },
  {
   "cell_type": "code",
   "execution_count": 91,
   "metadata": {},
   "outputs": [],
   "source": [
    "def get_el_idx(elmean,bins):\n",
    "    '''\n",
    "    This function is going get the index of the elevation\n",
    "    \n",
    "    Input : List of elevation angle and bins\n",
    "    \n",
    "    Output : Elevation index\n",
    "    \n",
    "    '''\n",
    "    el_idx = []\n",
    "    for el in elmean:\n",
    "        for j in range(len(bins)-1):\n",
    "            if bins[j] <= el < bins[j+1]:\n",
    "                el_idx.append(j)\n",
    "    \n",
    "    return np.array(el_idx)[None,:] "
   ]
  },
  {
   "cell_type": "code",
   "execution_count": 92,
   "metadata": {},
   "outputs": [],
   "source": [
    "el_idx = get_el_idx(elmean,np.arange(0,100,10))"
   ]
  },
  {
   "cell_type": "code",
   "execution_count": 100,
   "metadata": {},
   "outputs": [],
   "source": [
    "def get_corrprods(visfile):\n",
    "    '''\n",
    "    This function is getting the corr products\n",
    "    \n",
    "    Input : Visibility file\n",
    "    \n",
    "    Output : Correlation products\n",
    "    '''\n",
    "    bl = visfile.corr_products\n",
    "    bl_idx = []\n",
    "    for i in range(len(bl)):\n",
    "        bl_idx.append((bl[i][0][0:-1]+bl[i][1][0:-1]))\n",
    "            \n",
    "    return np.array(bl_idx)"
   ]
  },
  {
   "cell_type": "code",
   "execution_count": 101,
   "metadata": {},
   "outputs": [],
   "source": [
    "corr_prods = get_corrprods(visfile)"
   ]
  },
  {
   "cell_type": "code",
   "execution_count": 189,
   "metadata": {},
   "outputs": [],
   "source": [
    "def get_bl_idx(corr_prods):\n",
    "    '''\n",
    "    This function is getting the index of the correlation products\n",
    "    \n",
    "    Input  : Correlation products\n",
    "    \n",
    "    Output : Baseline index\n",
    "    '''\n",
    "    nant = 64\n",
    "    A1, A2 = np.empty(nant*(nant-1)/2, dtype=np.int32), np.empty(nant*(nant-1)/2, dtype=np.int32)\n",
    "    k = 0\n",
    "    for i in range(nant):\n",
    "        for j in range(i+1,nant):\n",
    "            A1[k] = i\n",
    "            A2[k] = j\n",
    "            k += 1\n",
    "\n",
    "    corr_products = np.array(['m{:03d}m{:03d}'.format(A1[i], A2[i]) for i in range(len(A1))])\n",
    "\n",
    "\n",
    "    df = pd.DataFrame(data=np.arange(2016), index=corr_products).T\n",
    "    \n",
    "    bl_idx = df[corr_prods].values\n",
    "    return (bl_idx[0])[:,None]"
   ]
  },
  {
   "cell_type": "code",
   "execution_count": 190,
   "metadata": {},
   "outputs": [],
   "source": [
    "bl_idx = get_bl_idx(corr_prods)"
   ]
  },
  {
   "cell_type": "code",
   "execution_count": 192,
   "metadata": {},
   "outputs": [],
   "source": [
    "#Initializing the master array and the weghting\n",
    "master = np.zeros((24,4096,2016,10,24),dtype=np.uint16)\n",
    "co = np.zeros((24,4096,2016,10,24),dtype=np.uint16)"
   ]
  },
  {
   "cell_type": "code",
   "execution_count": null,
   "metadata": {},
   "outputs": [],
   "source": [
    "# Updating the array\n",
    "master[time_idx,:,bl_idx,el_idx,az_idx] += np.transpose(all_flags, axes=[2,0,1])\n",
    "co[time_idx,:,bl_idx,el_idx,az_idx] += 1"
   ]
  },
  {
   "cell_type": "code",
   "execution_count": null,
   "metadata": {},
   "outputs": [],
   "source": [
    "# Computing the probabilty\n",
    "pb = np.nan_to_num(master/co)"
   ]
  },
  {
   "cell_type": "code",
   "execution_count": 169,
   "metadata": {},
   "outputs": [],
   "source": [
    "# Creating Xarray for ease access\n",
    "ds = xr.DataArray(pb,dims = ('time','frequency','baseline','elevation','azimuth'))"
   ]
  }
 ],
 "metadata": {
  "kernelspec": {
   "display_name": "Python 2",
   "language": "python",
   "name": "python2"
  },
  "language_info": {
   "codemirror_mode": {
    "name": "ipython",
    "version": 2
   },
   "file_extension": ".py",
   "mimetype": "text/x-python",
   "name": "python",
   "nbconvert_exporter": "python",
   "pygments_lexer": "ipython2",
   "version": "2.7.12"
  }
 },
 "nbformat": 4,
 "nbformat_minor": 2
}
